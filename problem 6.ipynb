{
 "cells": [
  {
   "cell_type": "code",
   "execution_count": 2,
   "id": "ae783599",
   "metadata": {},
   "outputs": [
    {
     "name": "stdout",
     "output_type": "stream",
     "text": [
      "red\n",
      "green\n",
      "yellow\n",
      "black\n",
      "r\n",
      "e\n",
      "d\n"
     ]
    }
   ],
   "source": [
    "#iterate through a list\n",
    "colors=[\"red\",\"green\",\"yellow\",\"black\"]\n",
    "for x in colors:\n",
    "    print(x)\n",
    "    \n",
    "#iterate through a string\n",
    "s=\"red\"\n",
    "for x in s:\n",
    "    print(x)"
   ]
  },
  {
   "cell_type": "code",
   "execution_count": null,
   "id": "40315f94",
   "metadata": {},
   "outputs": [],
   "source": []
  }
 ],
 "metadata": {
  "kernelspec": {
   "display_name": "Python 3 (ipykernel)",
   "language": "python",
   "name": "python3"
  },
  "language_info": {
   "codemirror_mode": {
    "name": "ipython",
    "version": 3
   },
   "file_extension": ".py",
   "mimetype": "text/x-python",
   "name": "python",
   "nbconvert_exporter": "python",
   "pygments_lexer": "ipython3",
   "version": "3.10.9"
  }
 },
 "nbformat": 4,
 "nbformat_minor": 5
}
